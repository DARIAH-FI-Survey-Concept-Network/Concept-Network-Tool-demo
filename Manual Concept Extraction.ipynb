{
 "cells": [
  {
   "cell_type": "markdown",
   "id": "ca3206a6",
   "metadata": {},
   "source": [
    "# Manual Concept Extraction\n",
    "\n",
    "## Import data\n",
    "\n",
    "Here user has to define the following:\n",
    "\n",
    "- `DATA_PATH`: the folder including data files\n",
    "- `DATA_FILES` : automatically detected `csv` files from `DATA_PATH` \n"
   ]
  },
  {
   "cell_type": "code",
   "execution_count": 1,
   "id": "4d8cccab",
   "metadata": {},
   "outputs": [],
   "source": [
    "# Load R packages\n",
    "pacman::p_load(tidyverse, udpipe, stopwords)"
   ]
  },
  {
   "cell_type": "code",
   "execution_count": 2,
   "id": "8a31db1b",
   "metadata": {},
   "outputs": [
    {
     "name": "stdout",
     "output_type": "stream",
     "text": [
      "Available datasets in processed_data \n",
      " 1 \t processed_data/hs2014_processed.csv \n",
      " \n",
      "Select data: 1\n",
      "processed_data/hs2014_processed.csv selected."
     ]
    }
   ],
   "source": [
    "DATA_PATH <- \"processed_data\"\n",
    "DATA_FILES <- list.files(DATA_PATH, pattern = \".csv\",full.names = TRUE,)\n",
    "\n",
    "cat(\"Available datasets in\", DATA_PATH, \"\\n\",\n",
    "    \n",
    "    paste(paste(1:length(DATA_FILES) ,\"\\t\", DATA_FILES, \"\\n\"), sep = \"\\n\"), \"\\n\")\n",
    "\n",
    "\n",
    "df_path <- DATA_FILES[as.numeric(readline(prompt=\"Select data: \"))]\n",
    "df_raw <- read.csv(df_path)\n",
    "cat(df_path, \"selected.\")"
   ]
  },
  {
   "cell_type": "markdown",
   "id": "2b9307e1",
   "metadata": {},
   "source": [
    "## Stopword removal\n",
    "\n",
    "R package [`stopwords`](https://cran.r-project.org/web/packages/stopwords/readme/README.html) includes three Finnish stop word lists: \n",
    "\n",
    "    1. snowball\n",
    "    2. nltk\n",
    "    3. stopwords-iso\n",
    "\n",
    "\n",
    "Then filter the data by excluding words from the stop word list."
   ]
  },
  {
   "cell_type": "code",
   "execution_count": 3,
   "id": "05224131",
   "metadata": {},
   "outputs": [
    {
     "name": "stdout",
     "output_type": "stream",
     "text": [
      "Stopword lists available:\n",
      " 1 \t snowball (68 words) \n",
      " 2 \t stopwords-iso (847 words) \n",
      " 3 \t nltk (229 words) \n",
      " 4 \t None (0 words) \n",
      " 5 \t Custom \n",
      " \n",
      "Select stopword list: 3\n",
      "Stopwords:\n",
      "olla, olen, olet, on, olemme, olette, ovat, ole, oli, olisi, olisit, olisin, olisimme, olisitte, olisivat, olit, olin, olimme, olitte, olivat, ollut, olleet, en, et, ei, emme, ette, eivät, minä, minun, minut, minua, minussa, minusta, minuun, minulla, minulta, minulle, sinä, sinun, sinut, sinua, sinussa, sinusta, sinuun, sinulla, sinulta, sinulle, hän, hänen, hänet, häntä, hänessä, hänestä, häneen, hänellä, häneltä, hänelle, me, meidän, meidät, meitä, meissä, meistä, meihin, meillä, meiltä, meille, te, teidän, teidät, teitä, teissä, teistä, teihin, teillä, teiltä, teille, he, heidän, heidät, heitä, heissä, heistä, heihin, heillä, heiltä, heille, tämä, tämän, tätä, tässä, tästä, tähän, tallä, tältä, tälle, tänä, täksi, tuo, tuon, tuotä, tuossa, tuosta, tuohon, tuolla, tuolta, tuolle, tuona, tuoksi, se, sen, sitä, siinä, siitä, siihen, sillä, siltä, sille, siksi, nämä, näiden, näitä, näissä, näistä, näihin, näillä, näiltä, näille, näinä, näiksi, nuo, noiden, noita, noissa, noista, noihin, noilla, noilta, noille, noina, noiksi, ne, niiden, niitä, niissä, niistä, niihin, niillä, niiltä, niille, niinä, niiksi, kuka, kenen, kenet, ketä, kenessä, kenestä, keneen, kenellä, keneltä, kenelle, kenenä, keneksi, ketkä, keiden, keitä, keissä, keistä, keihin, keillä, keiltä, keille, keinä, keiksi, mikä, minkä, mitä, missä, mistä, mihin, millä, miltä, mille, miksi, mitkä, joka, jonka, jota, jossa, josta, johon, jolla, jolta, jolle, jona, joksi, jotka, joiden, joita, joissa, joista, joihin, joilla, joilta, joille, joina, joiksi, että, ja, jos, koska, kuin, mutta, niin, sekä, tai, vaan, vai, vaikka, kanssa, mukaan, noin, poikki, yli, kun, nyt, itse"
     ]
    }
   ],
   "source": [
    "sw_lists_available <- stopwords_getsources()[unlist(lapply(stopwords_getsources(), function(x) ifelse(\"fi\" %in% stopwords_getlanguages(x), TRUE, FALSE)))]\n",
    "sw_lists <- c(lapply(sw_lists_available, function(y) stopwords(\"fi\", y)), list(NA))\n",
    "sw_list_sizes <- lapply(sw_lists, function(z) ifelse(length(z) > 1, length(z), 0))\n",
    "                \n",
    "sw_options <- c(paste(c(sw_lists_available, \"None\"), paste0(\"(\", sw_list_sizes, \" words)\")), \"Custom\")\n",
    "                        \n",
    "cat(\"Stopword lists available:\\n\",paste(paste(1:length(sw_options) ,\"\\t\", sw_options, \"\\n\"), sep = \"\\n\"), \"\\n\")\n",
    "\n",
    "sw_selection <- readline(prompt=\"Select stopword list: \")                        \n",
    "\n",
    "if(as.numeric(sw_selection) == length(sw_options)) {\n",
    "    custom_stopwords <- readline(prompt=\"List all stopwords. Separate with a comma.\\n\")\n",
    "    stopword_list <- trimws(stringr::str_split(custom_stopwords, \",\", simplify = TRUE), \"both\")\n",
    "    cat(length(stopword_list), \"stopwords saved.\")\n",
    "} else {\n",
    "    stopword_list <- sw_lists[[as.numeric(sw_selection)]]\n",
    "    cat(\"Stopwords:\\n\", paste(stopword_list, collapse = \", \"), sep =\"\")\n",
    "}\n",
    "                        \n",
    "                     "
   ]
  },
  {
   "cell_type": "code",
   "execution_count": 4,
   "id": "84ad8826",
   "metadata": {},
   "outputs": [],
   "source": [
    "# Remove all the stop words above from the data\n",
    "df <- df_raw %>%\n",
    "  filter(!lemma %in% stopword_list) "
   ]
  },
  {
   "cell_type": "markdown",
   "id": "449dd679",
   "metadata": {},
   "source": [
    "# Pre-defined concepts\n",
    "\n",
    "## Option 1 – Interactively selected concepts"
   ]
  },
  {
   "cell_type": "code",
   "execution_count": 5,
   "id": "3281fde4",
   "metadata": {},
   "outputs": [
    {
     "name": "stdout",
     "output_type": "stream",
     "text": [
      "What is the question that was asked from the respondents?\n",
      "yksinäisyys\n",
      "What are the concepts in this question? Separate multiple concepts with a comma.\n",
      "yksinäisyys\n",
      "Following concepts selected:\n",
      " 1 \t yksinäisyys \n",
      " \n"
     ]
    }
   ],
   "source": [
    "question <- readline(prompt=\"What is the question that was asked from the respondents?\\n\")\n",
    "input_concepts <- readline(prompt=\"What are the concepts in this question? Separate multiple concepts with a comma.\\n\")\n",
    "concepts <- trimws(stringr::str_split(input_concepts, \",\", simplify = TRUE), \"both\")\n",
    "\n",
    "cat(\"Following concepts selected:\\n\",\n",
    "   paste(paste(1:length(concepts) ,\"\\t\", concepts, \"\\n\"), sep = \"\\n\"), \"\\n\")"
   ]
  },
  {
   "cell_type": "markdown",
   "id": "f7305763",
   "metadata": {},
   "source": [
    "## Option 2 – Manually assigned variables"
   ]
  },
  {
   "cell_type": "code",
   "execution_count": 6,
   "id": "084a85d0",
   "metadata": {
    "scrolled": true
   },
   "outputs": [
    {
     "name": "stdout",
     "output_type": "stream",
     "text": [
      "Following concepts selected:\n",
      " 1 \t yksinäisyys \n",
      " \n"
     ]
    }
   ],
   "source": [
    "question = \"Miltä yksinäisyys tuntuu? Yksinäisyyteen liittyy usein voimakkaita tunteita, jotka ovat erilaisia eri elämäntilanteissa. Jos haluat, voit kertoa yksinäisyyskokemuksiasi tässä\"\n",
    "concepts = \"yksinäisyys\"\n",
    "\n",
    "cat(\"Following concepts selected:\\n\",\n",
    "   paste(paste(1:length(concepts) ,\"\\t\", concepts, \"\\n\"), sep = \"\\n\"), \"\\n\")"
   ]
  },
  {
   "cell_type": "markdown",
   "id": "7eaa8e64",
   "metadata": {},
   "source": [
    "## Text mining functions\n",
    "\n",
    "### Document Term Matrix"
   ]
  },
  {
   "cell_type": "code",
   "execution_count": 7,
   "id": "5beea515",
   "metadata": {},
   "outputs": [
    {
     "name": "stdout",
     "output_type": "stream",
     "text": [
      "7734 words in vocabulary."
     ]
    }
   ],
   "source": [
    "vocab = df %>% \n",
    "    filter(!xpos %in% c(\"Punct\", \"Symb\"))%>% \n",
    "    pull(lemma) %>%\n",
    "    unique()\n",
    "cat(length(vocab), \"words in vocabulary.\")\n",
    "\n",
    "term_frequencies <- document_term_frequencies(df %>% select(doc_id, lemma))\n",
    "dtm = document_term_matrix(term_frequencies, vocabulary = vocab)\n"
   ]
  },
  {
   "cell_type": "markdown",
   "id": "7ed41333",
   "metadata": {},
   "source": [
    "## Concept co-occurences"
   ]
  },
  {
   "cell_type": "code",
   "execution_count": 8,
   "id": "aacbc595",
   "metadata": {},
   "outputs": [],
   "source": [
    "get_cooccurences <- function(data, concepts) {\n",
    "    \n",
    "    concept_list <- unlist(str_split(concepts, \" \"))\n",
    "    \n",
    "    cleaned_data <- data %>% \n",
    "    filter(!xpos %in% c(\"Punct\", \"Symb\"))\n",
    "    \n",
    "    counts <- cooccurrence(cleaned_data, group = \"doc_id\", term = \"lemma\")\n",
    "    \n",
    "    concept_counts <- counts[counts$term1 %in% concept_list | counts$term2 %in% concept_list,]\n",
    "    \n",
    "    return(concept_counts)\n",
    "}\n",
    "\n",
    "concept_cooccurences <- get_cooccurences(data = df, concepts = concepts)"
   ]
  },
  {
   "cell_type": "markdown",
   "id": "aad3fc4b",
   "metadata": {},
   "source": [
    "### Word frequencies for concept words"
   ]
  },
  {
   "cell_type": "code",
   "execution_count": 9,
   "id": "91b06814",
   "metadata": {},
   "outputs": [],
   "source": [
    "concept_counts <- function(dtm, concepts) {\n",
    "    concept_list <- str_split(concepts, \" \")\n",
    "    \n",
    "    output <- lapply(concept_list, function(i) {\n",
    "        word_counts <- lapply(i, function(j){ifelse(j %in% colnames(dtm), sum(dtm[,j]) , NA)})\n",
    "        df_words <- data.frame(term = i, count = unlist(word_counts))\n",
    "        \n",
    "    })\n",
    "    \n",
    "    names(output) <- concepts\n",
    "    \n",
    "    return(output)\n",
    "}"
   ]
  },
  {
   "cell_type": "markdown",
   "id": "deb948a1",
   "metadata": {},
   "source": [
    "### Context words for concept words"
   ]
  },
  {
   "cell_type": "code",
   "execution_count": 10,
   "id": "6caa5f35",
   "metadata": {},
   "outputs": [],
   "source": [
    "search_context_words <- function(data, concepts, size = 5) {\n",
    "    concept_list <- str_split(concepts, \" \")    \n",
    "    \n",
    "    cleaned_data <- data %>% \n",
    "    filter(!xpos %in% c(\"Punct\", \"Symb\"))%>% \n",
    "    group_by(doc_id, paragraph_id, sentence_id) %>% \n",
    "    mutate(token_id = row_number(sentence_id))\n",
    "    \n",
    "    concept_words <- cleaned_data %>%\n",
    "    filter(lemma %in% unlist(concept_list) | token %in% unlist(concept_list))\n",
    "    \n",
    "    \n",
    "    get_window <- function(token_id, size) {\n",
    "\n",
    "        indices <- lapply(token_id, function(x){\n",
    "            start <- ifelse(x - size >= 1, x - size, 0)\n",
    "            end <- x + size\n",
    "\n",
    "            return(start:end)\n",
    "        })\n",
    "        return(indices)\n",
    "    }\n",
    "    \n",
    "    concept_locations <- concept_words %>%\n",
    "    tibble() %>%\n",
    "    select(lemma, doc_id, sentence_id, token_id) %>%\n",
    "    mutate(window = get_window(token_id, size = size)) %>%\n",
    "    unnest_longer(window) %>%\n",
    "    rename(concept_location = token_id, token_id = window, concept = lemma)\n",
    "    \n",
    "    context_windows <- concept_locations %>% \n",
    "    inner_join(cleaned_data, by = c(\"doc_id\", \"sentence_id\", \"token_id\")) \n",
    "    \n",
    "    \n",
    "    return(context_windows)\n",
    "}\n",
    "\n",
    "context_windows <- search_context_words(data = df, concepts = concepts)"
   ]
  },
  {
   "cell_type": "code",
   "execution_count": 11,
   "id": "676662b0",
   "metadata": {},
   "outputs": [],
   "source": [
    "context_words_counts <- context_windows %>% \n",
    "    group_by(concept) %>% \n",
    "    count(lemma, sort = TRUE) %>%\n",
    "    group_split()"
   ]
  },
  {
   "cell_type": "markdown",
   "id": "3a62821f",
   "metadata": {},
   "source": [
    "# Visualizations\n"
   ]
  },
  {
   "cell_type": "code",
   "execution_count": null,
   "id": "5e343a9b",
   "metadata": {},
   "outputs": [],
   "source": []
  }
 ],
 "metadata": {
  "kernelspec": {
   "display_name": "R",
   "language": "R",
   "name": "ir"
  },
  "language_info": {
   "codemirror_mode": "r",
   "file_extension": ".r",
   "mimetype": "text/x-r-source",
   "name": "R",
   "pygments_lexer": "r",
   "version": "4.2.1"
  }
 },
 "nbformat": 4,
 "nbformat_minor": 5
}
