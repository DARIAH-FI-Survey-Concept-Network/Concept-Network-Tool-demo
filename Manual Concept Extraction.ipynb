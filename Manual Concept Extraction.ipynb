{
 "cells": [
  {
   "cell_type": "markdown",
   "id": "ca3206a6",
   "metadata": {},
   "source": [
    "# Manual Concept Extraction\n",
    "\n",
    "## Import data\n",
    "\n",
    "Here user has to define the following:\n",
    "\n",
    "- `DATA_PATH`: the folder including data files\n",
    "- `DATA_FILES` : automatically detected `csv` files from `DATA_PATH` \n"
   ]
  },
  {
   "cell_type": "code",
   "execution_count": 2,
   "id": "4d8cccab",
   "metadata": {
    "vscode": {
     "languageId": "r"
    }
   },
   "outputs": [],
   "source": [
    "# Load R packages\n",
    "if (!require(\"pacman\")){ \n",
    "    install.packages(\"pacman\")\n",
    "}\n",
    "pacman::p_load(tidyverse, udpipe, stopwords)"
   ]
  },
  {
   "cell_type": "code",
   "execution_count": 3,
   "id": "8a31db1b",
   "metadata": {
    "vscode": {
     "languageId": "r"
    }
   },
   "outputs": [
    {
     "name": "stdout",
     "output_type": "stream",
     "text": [
      "Available datasets in processed_data \n",
      " 1 \t processed_data/hs2014_processed.csv \n",
      " \n",
      "processed_data/hs2014_processed.csv selected."
     ]
    }
   ],
   "source": [
    "DATA_PATH <- \"processed_data\"\n",
    "DATA_FILES <- list.files(DATA_PATH, pattern = \".csv\",full.names = TRUE,)\n",
    "\n",
    "cat(\"Available datasets in\", DATA_PATH, \"\\n\",\n",
    "    \n",
    "    paste(paste(1:length(DATA_FILES) ,\"\\t\", DATA_FILES, \"\\n\"), sep = \"\\n\"), \"\\n\")\n",
    "\n",
    "\n",
    "df_path <- DATA_FILES[as.numeric(readline(prompt=\"Select data: \"))]\n",
    "df_raw <- read.csv(df_path)\n",
    "cat(df_path, \"selected.\")"
   ]
  },
  {
   "cell_type": "markdown",
   "id": "2b9307e1",
   "metadata": {},
   "source": [
    "## Stopword removal\n",
    "\n",
    "R package [`stopwords`](https://cran.r-project.org/web/packages/stopwords/readme/README.html) includes three Finnish stop word lists: \n",
    "\n",
    "    1. nltk\n",
    "    2. snowball\n",
    "    3. stopwords-iso\n",
    "\n",
    "\n",
    "Then filter the data by excluding words from the stop word list."
   ]
  },
  {
   "cell_type": "code",
   "execution_count": 4,
   "id": "05224131",
   "metadata": {
    "vscode": {
     "languageId": "r"
    }
   },
   "outputs": [
    {
     "name": "stdout",
     "output_type": "stream",
     "text": [
      "Stopword lists available:\n",
      " 1 \t nltk (229 words) \n",
      " 2 \t snowball (68 words) \n",
      " 3 \t stopwords-iso (847 words) \n",
      " 4 \t None (0 words) \n",
      " 5 \t Custom \n",
      " \n",
      "Stopwords:\n",
      "NA"
     ]
    }
   ],
   "source": [
    "sw_lists_available <- sort(stopwords_getsources()[unlist(lapply(stopwords_getsources(), function(x) ifelse(\"fi\" %in% stopwords_getlanguages(x), TRUE, FALSE)))])\n",
    "sw_lists <- c(lapply(sw_lists_available, function(y) stopwords(\"fi\", y)), list(NA))\n",
    "sw_list_sizes <- lapply(sw_lists, function(z) ifelse(length(z) > 1, length(z), 0))\n",
    "                \n",
    "sw_options <- c(paste(c(sw_lists_available, \"None\"), paste0(\"(\", sw_list_sizes, \" words)\")), \"Custom\")\n",
    "                        \n",
    "cat(\"Stopword lists available:\\n\",paste(paste(1:length(sw_options) ,\"\\t\", sw_options, \"\\n\"), sep = \"\\n\"), \"\\n\")\n",
    "\n",
    "sw_selection <- readline(prompt=\"Select stopword list: \")                        \n",
    "\n",
    "if(as.numeric(sw_selection) == length(sw_options)) {\n",
    "    custom_stopwords <- readline(prompt=\"List all stopwords. Separate with a comma.\\n\")\n",
    "    stopword_list <- trimws(stringr::str_split(custom_stopwords, \",\", simplify = TRUE), \"both\")\n",
    "    cat(length(stopword_list), \"stopwords saved.\")\n",
    "} else {\n",
    "    stopword_list <- sw_lists[[as.numeric(sw_selection)]]\n",
    "    cat(\"Stopwords:\\n\", paste(stopword_list, collapse = \", \"), sep =\"\")\n",
    "}\n",
    "                        \n",
    "                     "
   ]
  },
  {
   "cell_type": "code",
   "execution_count": 5,
   "id": "84ad8826",
   "metadata": {
    "vscode": {
     "languageId": "r"
    }
   },
   "outputs": [],
   "source": [
    "# Remove all the stop words above from the data\n",
    "df <- df_raw %>%\n",
    "  filter(!lemma %in% stopword_list) "
   ]
  },
  {
   "cell_type": "markdown",
   "id": "449dd679",
   "metadata": {},
   "source": [
    "# Pre-defined concepts\n",
    "\n",
    "## Option 1 – Interactively selected concepts"
   ]
  },
  {
   "cell_type": "code",
   "execution_count": 6,
   "id": "3281fde4",
   "metadata": {
    "vscode": {
     "languageId": "r"
    }
   },
   "outputs": [
    {
     "name": "stdout",
     "output_type": "stream",
     "text": [
      "Following concepts selected:\n",
      " 1 \t yksinäisyys \n",
      " 2 \t tunne \n",
      " \n"
     ]
    }
   ],
   "source": [
    "question <- readline(prompt=\"What is the question that was asked from the respondents?\\n\")\n",
    "input_concepts <- readline(prompt=\"What are the concepts in this question? Separate multiple concepts with a comma.\\n\")\n",
    "concepts <- trimws(stringr::str_split(input_concepts, \",\", simplify = TRUE), \"both\")\n",
    "\n",
    "cat(\"Following concepts selected:\\n\",\n",
    "   paste(paste(1:length(concepts) ,\"\\t\", concepts, \"\\n\"), sep = \"\\n\"), \"\\n\")"
   ]
  },
  {
   "cell_type": "markdown",
   "id": "f7305763",
   "metadata": {},
   "source": [
    "## Option 2 – Manually assigned variables"
   ]
  },
  {
   "cell_type": "code",
   "execution_count": 7,
   "id": "084a85d0",
   "metadata": {
    "scrolled": true,
    "vscode": {
     "languageId": "r"
    }
   },
   "outputs": [
    {
     "name": "stdout",
     "output_type": "stream",
     "text": [
      "Following concepts selected:\n",
      " 1 \t yksinäisyys \n",
      " \n"
     ]
    }
   ],
   "source": [
    "question = \"Miltä yksinäisyys tuntuu? Yksinäisyyteen liittyy usein voimakkaita tunteita, jotka ovat erilaisia eri elämäntilanteissa. Jos haluat, voit kertoa yksinäisyyskokemuksiasi tässä\"\n",
    "concepts = \"yksinäisyys\"\n",
    "\n",
    "cat(\"Following concepts selected:\\n\",\n",
    "   paste(paste(1:length(concepts) ,\"\\t\", concepts, \"\\n\"), sep = \"\\n\"), \"\\n\")"
   ]
  },
  {
   "cell_type": "markdown",
   "id": "7eaa8e64",
   "metadata": {},
   "source": [
    "## Text mining functions\n",
    "\n",
    "### Document Term Matrix"
   ]
  },
  {
   "cell_type": "code",
   "execution_count": 8,
   "id": "5beea515",
   "metadata": {
    "vscode": {
     "languageId": "r"
    }
   },
   "outputs": [
    {
     "name": "stdout",
     "output_type": "stream",
     "text": [
      "7785 words in vocabulary."
     ]
    }
   ],
   "source": [
    "vocab = df %>% \n",
    "    filter(!xpos %in% c(\"Punct\", \"Symb\"))%>% \n",
    "    pull(lemma) %>%\n",
    "    unique()\n",
    "cat(length(vocab), \"words in vocabulary.\")\n",
    "\n",
    "term_frequencies <- document_term_frequencies(df %>% select(doc_id, lemma))\n",
    "dtm = document_term_matrix(term_frequencies, vocabulary = vocab)\n"
   ]
  },
  {
   "cell_type": "markdown",
   "id": "7ed41333",
   "metadata": {},
   "source": [
    "## Concept co-occurences"
   ]
  },
  {
   "cell_type": "code",
   "execution_count": 9,
   "id": "aacbc595",
   "metadata": {
    "vscode": {
     "languageId": "r"
    }
   },
   "outputs": [],
   "source": [
    "get_cooccurences <- function(data, concepts) {\n",
    "    \n",
    "    concept_list <- unlist(str_split(concepts, \" \"))\n",
    "    \n",
    "    cleaned_data <- data %>% \n",
    "    filter(!xpos %in% c(\"Punct\", \"Symb\"))\n",
    "    \n",
    "    counts <- cooccurrence(cleaned_data, group = \"doc_id\", term = \"lemma\")\n",
    "    \n",
    "    concept_counts <- counts[counts$term1 %in% concept_list | counts$term2 %in% concept_list,]\n",
    "    \n",
    "    return(concept_counts)\n",
    "}\n",
    "\n",
    "concept_cooccurences <- get_cooccurences(data = df, concepts = concepts)"
   ]
  },
  {
   "cell_type": "markdown",
   "id": "aad3fc4b",
   "metadata": {},
   "source": [
    "### Word frequencies for concept words"
   ]
  },
  {
   "cell_type": "code",
   "execution_count": 10,
   "id": "91b06814",
   "metadata": {
    "vscode": {
     "languageId": "r"
    }
   },
   "outputs": [],
   "source": [
    "concept_counts <- function(dtm, concepts) {\n",
    "    concept_list <- str_split(concepts, \" \")\n",
    "    \n",
    "    output <- lapply(concept_list, function(i) {\n",
    "        word_counts <- lapply(i, function(j){ifelse(j %in% colnames(dtm), sum(dtm[,j]) , NA)})\n",
    "        df_words <- data.frame(term = i, count = unlist(word_counts))\n",
    "        \n",
    "    })\n",
    "    \n",
    "    names(output) <- concepts\n",
    "    \n",
    "    return(output)\n",
    "}"
   ]
  },
  {
   "cell_type": "markdown",
   "id": "deb948a1",
   "metadata": {},
   "source": [
    "### Context words for concept words"
   ]
  },
  {
   "cell_type": "code",
   "execution_count": 12,
   "id": "6caa5f35",
   "metadata": {
    "vscode": {
     "languageId": "r"
    }
   },
   "outputs": [],
   "source": [
    "search_context_words <- function(data, concepts, size = 5) {\n",
    "    concept_list <- str_split(concepts, \" \")    \n",
    "    \n",
    "    cleaned_data <- data %>% \n",
    "    filter(!xpos %in% c(\"Punct\", \"Symb\"))%>% \n",
    "    group_by(doc_id, paragraph_id, sentence_id) %>% \n",
    "    mutate(token_id = row_number(sentence_id))\n",
    "    \n",
    "    concept_words <- cleaned_data %>%\n",
    "    filter(lemma %in% unlist(concept_list) | token %in% unlist(concept_list))\n",
    "    \n",
    "    \n",
    "    get_window <- function(token_id, size) {\n",
    "\n",
    "        indices <- lapply(token_id, function(x){\n",
    "            start <- ifelse(x - size >= 1, x - size, 0)\n",
    "            end <- x + size\n",
    "\n",
    "            return(start:end)\n",
    "        })\n",
    "        return(indices)\n",
    "    }\n",
    "    \n",
    "    concept_locations <- concept_words %>%\n",
    "    tibble() %>%\n",
    "    select(lemma, doc_id, sentence_id, token_id) %>%\n",
    "    mutate(window = get_window(token_id, size = size)) %>%\n",
    "    unnest_longer(window) %>%\n",
    "    rename(concept_location = token_id, token_id = window, concept = lemma)\n",
    "    \n",
    "    context_windows <- concept_locations %>% \n",
    "    inner_join(cleaned_data, by = c(\"doc_id\", \"sentence_id\", \"token_id\")) \n",
    "    \n",
    "    \n",
    "    return(context_windows)\n",
    "}\n",
    "\n",
    "context_windows <- search_context_words(data = df, concepts = concepts)"
   ]
  },
  {
   "cell_type": "code",
   "execution_count": 13,
   "id": "676662b0",
   "metadata": {
    "vscode": {
     "languageId": "r"
    }
   },
   "outputs": [
    {
     "data": {
      "text/html": [
       "<ol>\n",
       "\t<li><table class=\"dataframe\">\n",
       "<caption>A tibble: 1699 × 3</caption>\n",
       "<thead>\n",
       "\t<tr><th scope=col>concept</th><th scope=col>lemma</th><th scope=col>n</th></tr>\n",
       "\t<tr><th scope=col>&lt;chr&gt;</th><th scope=col>&lt;chr&gt;</th><th scope=col>&lt;int&gt;</th></tr>\n",
       "</thead>\n",
       "<tbody>\n",
       "\t<tr><td>yksinäisyys</td><td>yksinäisyys</td><td>1517</td></tr>\n",
       "\t<tr><td>yksinäisyys</td><td>olla       </td><td> 796</td></tr>\n",
       "\t<tr><td>yksinäisyys</td><td>ja         </td><td> 360</td></tr>\n",
       "\t<tr><td>yksinäisyys</td><td>tuntua     </td><td> 320</td></tr>\n",
       "\t<tr><td>yksinäisyys</td><td>se         </td><td> 295</td></tr>\n",
       "\t<tr><td>yksinäisyys</td><td>ei         </td><td> 241</td></tr>\n",
       "\t<tr><td>yksinäisyys</td><td>tunne      </td><td> 207</td></tr>\n",
       "\t<tr><td>yksinäisyys</td><td>että       </td><td> 141</td></tr>\n",
       "\t<tr><td>yksinäisyys</td><td>kun        </td><td> 114</td></tr>\n",
       "\t<tr><td>yksinäisyys</td><td>minä       </td><td> 110</td></tr>\n",
       "\t<tr><td>yksinäisyys</td><td>kokea      </td><td> 108</td></tr>\n",
       "\t<tr><td>yksinäisyys</td><td>joka       </td><td>  87</td></tr>\n",
       "\t<tr><td>yksinäisyys</td><td>oma        </td><td>  76</td></tr>\n",
       "\t<tr><td>yksinäisyys</td><td>mutta      </td><td>  73</td></tr>\n",
       "\t<tr><td>yksinäisyys</td><td>kuin       </td><td>  70</td></tr>\n",
       "\t<tr><td>yksinäisyys</td><td>liittyä    </td><td>  69</td></tr>\n",
       "\t<tr><td>yksinäisyys</td><td>myös       </td><td>  68</td></tr>\n",
       "\t<tr><td>yksinäisyys</td><td>tuntea     </td><td>  58</td></tr>\n",
       "\t<tr><td>yksinäisyys</td><td>voida      </td><td>  55</td></tr>\n",
       "\t<tr><td>yksinäisyys</td><td>että#ei    </td><td>  52</td></tr>\n",
       "\t<tr><td>yksinäisyys</td><td>elämä      </td><td>  49</td></tr>\n",
       "\t<tr><td>yksinäisyys</td><td>muu        </td><td>  48</td></tr>\n",
       "\t<tr><td>yksinäisyys</td><td>saada      </td><td>  48</td></tr>\n",
       "\t<tr><td>yksinäisyys</td><td>itse       </td><td>  45</td></tr>\n",
       "\t<tr><td>yksinäisyys</td><td>paha       </td><td>  45</td></tr>\n",
       "\t<tr><td>yksinäisyys</td><td>aiheuttaa  </td><td>  44</td></tr>\n",
       "\t<tr><td>yksinäisyys</td><td>tämä       </td><td>  44</td></tr>\n",
       "\t<tr><td>yksinäisyys</td><td>silloin    </td><td>  42</td></tr>\n",
       "\t<tr><td>yksinäisyys</td><td>yksin      </td><td>  42</td></tr>\n",
       "\t<tr><td>yksinäisyys</td><td>kokemus    </td><td>  41</td></tr>\n",
       "\t<tr><td>⋮</td><td>⋮</td><td>⋮</td></tr>\n",
       "\t<tr><td>yksinäisyys</td><td>yhtään             </td><td>1</td></tr>\n",
       "\t<tr><td>yksinäisyys</td><td>yhteinen           </td><td>1</td></tr>\n",
       "\t<tr><td>yksinäisyys</td><td>yhteis#kunnallinen </td><td>1</td></tr>\n",
       "\t<tr><td>yksinäisyys</td><td>yhteisö            </td><td>1</td></tr>\n",
       "\t<tr><td>yksinäisyys</td><td>ykseys             </td><td>1</td></tr>\n",
       "\t<tr><td>yksinäisyys</td><td>yksi#oikoinen      </td><td>1</td></tr>\n",
       "\t<tr><td>yksinäisyys</td><td>yksi#ulote         </td><td>1</td></tr>\n",
       "\t<tr><td>yksinäisyys</td><td>yksin#kertainen    </td><td>1</td></tr>\n",
       "\t<tr><td>yksinäisyys</td><td>yksinään           </td><td>1</td></tr>\n",
       "\t<tr><td>yksinäisyys</td><td>yksinäisyyden#tunne</td><td>1</td></tr>\n",
       "\t<tr><td>yksinäisyys</td><td>yksinäisyytesi     </td><td>1</td></tr>\n",
       "\t<tr><td>yksinäisyys</td><td>yksinasuva         </td><td>1</td></tr>\n",
       "\t<tr><td>yksinäisyys</td><td>yksineläjyys       </td><td>1</td></tr>\n",
       "\t<tr><td>yksinäisyys</td><td>yksineläminen      </td><td>1</td></tr>\n",
       "\t<tr><td>yksinäisyys</td><td>yksinolla          </td><td>1</td></tr>\n",
       "\t<tr><td>yksinäisyys</td><td>yksinomaan         </td><td>1</td></tr>\n",
       "\t<tr><td>yksinäisyys</td><td>yksiselitteisesti  </td><td>1</td></tr>\n",
       "\t<tr><td>yksinäisyys</td><td>yksittäinen        </td><td>1</td></tr>\n",
       "\t<tr><td>yksinäisyys</td><td>yleisä             </td><td>1</td></tr>\n",
       "\t<tr><td>yksinäisyys</td><td>ylellisyys         </td><td>1</td></tr>\n",
       "\t<tr><td>yksinäisyys</td><td>yli#opisto#opinnot </td><td>1</td></tr>\n",
       "\t<tr><td>yksinäisyys</td><td>yli#voimainen      </td><td>1</td></tr>\n",
       "\t<tr><td>yksinäisyys</td><td>ylitsepääsemätön   </td><td>1</td></tr>\n",
       "\t<tr><td>yksinäisyys</td><td>ymmärrettävä       </td><td>1</td></tr>\n",
       "\t<tr><td>yksinäisyys</td><td>ymmärrys           </td><td>1</td></tr>\n",
       "\t<tr><td>yksinäisyys</td><td>ympäri             </td><td>1</td></tr>\n",
       "\t<tr><td>yksinäisyys</td><td>yms                </td><td>1</td></tr>\n",
       "\t<tr><td>yksinäisyys</td><td>yö                 </td><td>1</td></tr>\n",
       "\t<tr><td>yksinäisyys</td><td>ystävä#piiri       </td><td>1</td></tr>\n",
       "\t<tr><td>yksinäisyys</td><td>ystävyys#suhde     </td><td>1</td></tr>\n",
       "</tbody>\n",
       "</table>\n",
       "</li>\n",
       "</ol>\n"
      ],
      "text/latex": [
       "\\begin{enumerate}\n",
       "\\item A tibble: 1699 × 3\n",
       "\\begin{tabular}{lll}\n",
       " concept & lemma & n\\\\\n",
       " <chr> & <chr> & <int>\\\\\n",
       "\\hline\n",
       "\t yksinäisyys & yksinäisyys & 1517\\\\\n",
       "\t yksinäisyys & olla        &  796\\\\\n",
       "\t yksinäisyys & ja          &  360\\\\\n",
       "\t yksinäisyys & tuntua      &  320\\\\\n",
       "\t yksinäisyys & se          &  295\\\\\n",
       "\t yksinäisyys & ei          &  241\\\\\n",
       "\t yksinäisyys & tunne       &  207\\\\\n",
       "\t yksinäisyys & että        &  141\\\\\n",
       "\t yksinäisyys & kun         &  114\\\\\n",
       "\t yksinäisyys & minä        &  110\\\\\n",
       "\t yksinäisyys & kokea       &  108\\\\\n",
       "\t yksinäisyys & joka        &   87\\\\\n",
       "\t yksinäisyys & oma         &   76\\\\\n",
       "\t yksinäisyys & mutta       &   73\\\\\n",
       "\t yksinäisyys & kuin        &   70\\\\\n",
       "\t yksinäisyys & liittyä     &   69\\\\\n",
       "\t yksinäisyys & myös        &   68\\\\\n",
       "\t yksinäisyys & tuntea      &   58\\\\\n",
       "\t yksinäisyys & voida       &   55\\\\\n",
       "\t yksinäisyys & että\\#ei     &   52\\\\\n",
       "\t yksinäisyys & elämä       &   49\\\\\n",
       "\t yksinäisyys & muu         &   48\\\\\n",
       "\t yksinäisyys & saada       &   48\\\\\n",
       "\t yksinäisyys & itse        &   45\\\\\n",
       "\t yksinäisyys & paha        &   45\\\\\n",
       "\t yksinäisyys & aiheuttaa   &   44\\\\\n",
       "\t yksinäisyys & tämä        &   44\\\\\n",
       "\t yksinäisyys & silloin     &   42\\\\\n",
       "\t yksinäisyys & yksin       &   42\\\\\n",
       "\t yksinäisyys & kokemus     &   41\\\\\n",
       "\t ⋮ & ⋮ & ⋮\\\\\n",
       "\t yksinäisyys & yhtään              & 1\\\\\n",
       "\t yksinäisyys & yhteinen            & 1\\\\\n",
       "\t yksinäisyys & yhteis\\#kunnallinen  & 1\\\\\n",
       "\t yksinäisyys & yhteisö             & 1\\\\\n",
       "\t yksinäisyys & ykseys              & 1\\\\\n",
       "\t yksinäisyys & yksi\\#oikoinen       & 1\\\\\n",
       "\t yksinäisyys & yksi\\#ulote          & 1\\\\\n",
       "\t yksinäisyys & yksin\\#kertainen     & 1\\\\\n",
       "\t yksinäisyys & yksinään            & 1\\\\\n",
       "\t yksinäisyys & yksinäisyyden\\#tunne & 1\\\\\n",
       "\t yksinäisyys & yksinäisyytesi      & 1\\\\\n",
       "\t yksinäisyys & yksinasuva          & 1\\\\\n",
       "\t yksinäisyys & yksineläjyys        & 1\\\\\n",
       "\t yksinäisyys & yksineläminen       & 1\\\\\n",
       "\t yksinäisyys & yksinolla           & 1\\\\\n",
       "\t yksinäisyys & yksinomaan          & 1\\\\\n",
       "\t yksinäisyys & yksiselitteisesti   & 1\\\\\n",
       "\t yksinäisyys & yksittäinen         & 1\\\\\n",
       "\t yksinäisyys & yleisä              & 1\\\\\n",
       "\t yksinäisyys & ylellisyys          & 1\\\\\n",
       "\t yksinäisyys & yli\\#opisto\\#opinnot  & 1\\\\\n",
       "\t yksinäisyys & yli\\#voimainen       & 1\\\\\n",
       "\t yksinäisyys & ylitsepääsemätön    & 1\\\\\n",
       "\t yksinäisyys & ymmärrettävä        & 1\\\\\n",
       "\t yksinäisyys & ymmärrys            & 1\\\\\n",
       "\t yksinäisyys & ympäri              & 1\\\\\n",
       "\t yksinäisyys & yms                 & 1\\\\\n",
       "\t yksinäisyys & yö                  & 1\\\\\n",
       "\t yksinäisyys & ystävä\\#piiri        & 1\\\\\n",
       "\t yksinäisyys & ystävyys\\#suhde      & 1\\\\\n",
       "\\end{tabular}\n",
       "\n",
       "\\end{enumerate}\n"
      ],
      "text/markdown": [
       "1. \n",
       "A tibble: 1699 × 3\n",
       "\n",
       "| concept &lt;chr&gt; | lemma &lt;chr&gt; | n &lt;int&gt; |\n",
       "|---|---|---|\n",
       "| yksinäisyys | yksinäisyys | 1517 |\n",
       "| yksinäisyys | olla        |  796 |\n",
       "| yksinäisyys | ja          |  360 |\n",
       "| yksinäisyys | tuntua      |  320 |\n",
       "| yksinäisyys | se          |  295 |\n",
       "| yksinäisyys | ei          |  241 |\n",
       "| yksinäisyys | tunne       |  207 |\n",
       "| yksinäisyys | että        |  141 |\n",
       "| yksinäisyys | kun         |  114 |\n",
       "| yksinäisyys | minä        |  110 |\n",
       "| yksinäisyys | kokea       |  108 |\n",
       "| yksinäisyys | joka        |   87 |\n",
       "| yksinäisyys | oma         |   76 |\n",
       "| yksinäisyys | mutta       |   73 |\n",
       "| yksinäisyys | kuin        |   70 |\n",
       "| yksinäisyys | liittyä     |   69 |\n",
       "| yksinäisyys | myös        |   68 |\n",
       "| yksinäisyys | tuntea      |   58 |\n",
       "| yksinäisyys | voida       |   55 |\n",
       "| yksinäisyys | että#ei     |   52 |\n",
       "| yksinäisyys | elämä       |   49 |\n",
       "| yksinäisyys | muu         |   48 |\n",
       "| yksinäisyys | saada       |   48 |\n",
       "| yksinäisyys | itse        |   45 |\n",
       "| yksinäisyys | paha        |   45 |\n",
       "| yksinäisyys | aiheuttaa   |   44 |\n",
       "| yksinäisyys | tämä        |   44 |\n",
       "| yksinäisyys | silloin     |   42 |\n",
       "| yksinäisyys | yksin       |   42 |\n",
       "| yksinäisyys | kokemus     |   41 |\n",
       "| ⋮ | ⋮ | ⋮ |\n",
       "| yksinäisyys | yhtään              | 1 |\n",
       "| yksinäisyys | yhteinen            | 1 |\n",
       "| yksinäisyys | yhteis#kunnallinen  | 1 |\n",
       "| yksinäisyys | yhteisö             | 1 |\n",
       "| yksinäisyys | ykseys              | 1 |\n",
       "| yksinäisyys | yksi#oikoinen       | 1 |\n",
       "| yksinäisyys | yksi#ulote          | 1 |\n",
       "| yksinäisyys | yksin#kertainen     | 1 |\n",
       "| yksinäisyys | yksinään            | 1 |\n",
       "| yksinäisyys | yksinäisyyden#tunne | 1 |\n",
       "| yksinäisyys | yksinäisyytesi      | 1 |\n",
       "| yksinäisyys | yksinasuva          | 1 |\n",
       "| yksinäisyys | yksineläjyys        | 1 |\n",
       "| yksinäisyys | yksineläminen       | 1 |\n",
       "| yksinäisyys | yksinolla           | 1 |\n",
       "| yksinäisyys | yksinomaan          | 1 |\n",
       "| yksinäisyys | yksiselitteisesti   | 1 |\n",
       "| yksinäisyys | yksittäinen         | 1 |\n",
       "| yksinäisyys | yleisä              | 1 |\n",
       "| yksinäisyys | ylellisyys          | 1 |\n",
       "| yksinäisyys | yli#opisto#opinnot  | 1 |\n",
       "| yksinäisyys | yli#voimainen       | 1 |\n",
       "| yksinäisyys | ylitsepääsemätön    | 1 |\n",
       "| yksinäisyys | ymmärrettävä        | 1 |\n",
       "| yksinäisyys | ymmärrys            | 1 |\n",
       "| yksinäisyys | ympäri              | 1 |\n",
       "| yksinäisyys | yms                 | 1 |\n",
       "| yksinäisyys | yö                  | 1 |\n",
       "| yksinäisyys | ystävä#piiri        | 1 |\n",
       "| yksinäisyys | ystävyys#suhde      | 1 |\n",
       "\n",
       "\n",
       "\n",
       "\n"
      ],
      "text/plain": [
       "<list_of<\n",
       "  tbl_df<\n",
       "    concept: character\n",
       "    lemma  : character\n",
       "    n      : integer\n",
       "  >\n",
       ">[1]>\n",
       "[[1]]\n",
       "\u001b[90m# A tibble: 1,699 × 3\u001b[39m\n",
       "   concept     lemma           n\n",
       "   \u001b[3m\u001b[90m<chr>\u001b[39m\u001b[23m       \u001b[3m\u001b[90m<chr>\u001b[39m\u001b[23m       \u001b[3m\u001b[90m<int>\u001b[39m\u001b[23m\n",
       "\u001b[90m 1\u001b[39m yksinäisyys yksinäisyys  \u001b[4m1\u001b[24m517\n",
       "\u001b[90m 2\u001b[39m yksinäisyys olla          796\n",
       "\u001b[90m 3\u001b[39m yksinäisyys ja            360\n",
       "\u001b[90m 4\u001b[39m yksinäisyys tuntua        320\n",
       "\u001b[90m 5\u001b[39m yksinäisyys se            295\n",
       "\u001b[90m 6\u001b[39m yksinäisyys ei            241\n",
       "\u001b[90m 7\u001b[39m yksinäisyys tunne         207\n",
       "\u001b[90m 8\u001b[39m yksinäisyys että          141\n",
       "\u001b[90m 9\u001b[39m yksinäisyys kun           114\n",
       "\u001b[90m10\u001b[39m yksinäisyys minä          110\n",
       "\u001b[90m# … with 1,689 more rows\u001b[39m\n"
      ]
     },
     "metadata": {},
     "output_type": "display_data"
    }
   ],
   "source": [
    "context_words_counts <- context_windows %>% \n",
    "    group_by(concept) %>% \n",
    "    count(lemma, sort = TRUE) %>%\n",
    "    group_split()\n",
    "\n",
    "head(context_words_counts)"
   ]
  }
 ],
 "metadata": {
  "kernelspec": {
   "display_name": "R",
   "language": "R",
   "name": "ir"
  },
  "language_info": {
   "codemirror_mode": "r",
   "file_extension": ".r",
   "mimetype": "text/x-r-source",
   "name": "R",
   "pygments_lexer": "r",
   "version": "4.2.1"
  }
 },
 "nbformat": 4,
 "nbformat_minor": 5
}
